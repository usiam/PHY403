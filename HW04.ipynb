{
 "cells": [
  {
   "cell_type": "markdown",
   "metadata": {},
   "source": [
    "# $$Q3$$"
   ]
  },
  {
   "cell_type": "markdown",
   "metadata": {},
   "source": [
    "---"
   ]
  },
  {
   "cell_type": "code",
   "execution_count": 1,
   "metadata": {},
   "outputs": [],
   "source": [
    "import numpy as np\n",
    "from scipy.special import gammaln as gln\n",
    "from scipy.special import factorial as fact\n",
    "import matplotlib.pyplot as plt\n",
    "from matplotlib.pyplot import *\n",
    "\n",
    "font = {'size': 11}\n",
    "\n",
    "matplotlib.rc('font', **font)\n",
    "\n",
    "\n",
    "from scipy.optimize import minimize"
   ]
  },
  {
   "cell_type": "code",
   "execution_count": 2,
   "metadata": {},
   "outputs": [],
   "source": [
    "# all units in cgs\n",
    "\n",
    "z = np.array([0, 6, 12, 18]) * 10**(-4)\n",
    "n = np.array([1880, 940, 530, 305])\n",
    "\n",
    "r = 0.52 * 10**-4\n",
    "rho = 0.063 \n",
    "g = 980 \n",
    "T = 293 #K"
   ]
  },
  {
   "cell_type": "code",
   "execution_count": 3,
   "metadata": {},
   "outputs": [],
   "source": [
    "def logLikelihood(parameters):\n",
    "    v_0, k = parameters\n",
    "    a = (4 * np.pi * r**3 * rho * g)/(3*k*T)\n",
    "    sum = 0\n",
    "    \n",
    "    for i in range(4):\n",
    "        t1 = (-v_0 * np.exp(-a*z[i])) \n",
    "        t2 = n[i]*np.log(v_0)\n",
    "        t3 = - (n[i]*a*z[i]) \n",
    "        t4 = - gln((n[i]))\n",
    "\n",
    "        sum += (t1 + t2 + t3 + t4)\n",
    "   \n",
    "        \n",
    "    return -sum"
   ]
  },
  {
   "cell_type": "code",
   "execution_count": 4,
   "metadata": {},
   "outputs": [
    {
     "data": {
      "text/plain": [
       " final_simplex: (array([[1.84494448e+03, 1.19870254e-16],\n",
       "       [1.84494456e+03, 1.19870246e-16],\n",
       "       [1.84494455e+03, 1.19870252e-16]]), array([-7.21908153, -7.21908153, -7.21908153]))\n",
       "           fun: -7.219081528054403\n",
       "       message: 'Optimization terminated successfully.'\n",
       "          nfev: 135\n",
       "           nit: 70\n",
       "        status: 0\n",
       "       success: True\n",
       "             x: array([1.84494448e+03, 1.19870254e-16])"
      ]
     },
     "execution_count": 4,
     "metadata": {},
     "output_type": "execute_result"
    }
   ],
   "source": [
    "init_guess = [200, 1E-16]\n",
    "bestfit = minimize(logLikelihood, init_guess, method = 'nelder-mead')\n",
    "\n",
    "bestfit"
   ]
  },
  {
   "cell_type": "markdown",
   "metadata": {},
   "source": [
    "# Q3.b)\n",
    "\n",
    "$$k_{B} \\approx 1.20\\cdot10^{-16} \\text{ erg/K}$$\n",
    "$$\\nu_{0} \\approx 1.84\\cdot10^{3}$$"
   ]
  },
  {
   "cell_type": "markdown",
   "metadata": {},
   "source": [
    "---"
   ]
  },
  {
   "cell_type": "code",
   "execution_count": 5,
   "metadata": {
    "scrolled": true
   },
   "outputs": [],
   "source": [
    "logLikelihood_max = logLikelihood((1.84494448e+03, 1.19870254e-16))"
   ]
  },
  {
   "cell_type": "code",
   "execution_count": 6,
   "metadata": {},
   "outputs": [],
   "source": [
    "kb_list = np.linspace(1e-16, 1.4e-16, 500)\n",
    "v_list = np.linspace(1400, 2350, 500)\n",
    "logLikelihood_list = np.zeros([500, 500])\n",
    "\n",
    "for (k_ind, k) in enumerate(kb_list):\n",
    "    for (v_ind, v) in enumerate(v_list):\n",
    "        logLikelihood_list[v_ind][k_ind] = -logLikelihood((v, k))"
   ]
  },
  {
   "cell_type": "code",
   "execution_count": 7,
   "metadata": {},
   "outputs": [],
   "source": [
    "sigma_array = []\n",
    "for sigma in range(2):\n",
    "    sigma_array.append(-logLikelihood_max - 0.5*sigma**2)\n",
    "sigma_array = sigma_array[::-1]"
   ]
  },
  {
   "cell_type": "code",
   "execution_count": 8,
   "metadata": {},
   "outputs": [
    {
     "data": {
      "text/plain": [
       "<matplotlib.colorbar.Colorbar at 0x23252074070>"
      ]
     },
     "execution_count": 8,
     "metadata": {},
     "output_type": "execute_result"
    },
    {
     "data": {
      "image/png": "[encoded data removed]",
      "text/plain": [
       "<Figure size 720x288 with 2 Axes>"
      ]
     },
     "metadata": {
      "needs_background": "light"
     },
     "output_type": "display_data"
    }
   ],
   "source": [
    "t = np.linspace(0, 200, 50)\n",
    "fig, ax = plt.subplots(1,1, figsize = (10,4))\n",
    "\n",
    "filledContour = ax.contourf(kb_list, v_list, logLikelihood_list, levels = 20, extend = 'both')\n",
    "ax.contour(filledContour, levels = sigma_array, extend = 'both', colors = 'black')\n",
    "#ax.axhline(1.20*10**-16, linewidth=2, color='black')\n",
    "ax.axvline(1.166E-16, linewidth=1, color='black')\n",
    "ax.axvline(1.233E-16, linewidth=1, color='black')\n",
    "ax.grid()\n",
    "ax.set_ylabel(r'$\\nu_{0}$')\n",
    "ax.set_xlabel(r'$k_{B}$')\n",
    "ax.set_title('Q3c) Contour plot')\n",
    "fig.colorbar(filledContour, ax = ax)"
   ]
  },
  {
   "cell_type": "code",
   "execution_count": 9,
   "metadata": {
    "scrolled": true
   },
   "outputs": [
    {
     "name": "stdout",
     "output_type": "stream",
     "text": [
      "Error = +3.270253881000614e-18 or -3.4297461189993766e-18.\n"
     ]
    }
   ],
   "source": [
    "print('Error = +' + str(bestfit.x[1] - 1.166E-16) + ' or ' + str(bestfit.x[1] - 1.233E-16) + '.')"
   ]
  },
  {
   "cell_type": "markdown",
   "metadata": {},
   "source": [
    "# Q3.c)\n",
    "\n",
    "$$k_{B} \\approx 1.20_{-0.034}^{+0.033}\\cdot10^{-16}\\text{ erg/K}$$"
   ]
  }
 ],
 "metadata": {
  "kernelspec": {
   "display_name": "Python 3",
   "language": "python",
   "name": "python3"
  },
  "language_info": {
   "codemirror_mode": {
    "name": "ipython",
    "version": 3
   },
   "file_extension": ".py",
   "mimetype": "text/x-python",
   "name": "python",
   "nbconvert_exporter": "python",
   "pygments_lexer": "ipython3",
   "version": "3.8.3"
  }
 },
 "nbformat": 4,
 "nbformat_minor": 4
}
