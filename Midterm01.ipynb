{
 "cells": [
  {
   "cell_type": "markdown",
   "metadata": {},
   "source": [
    "# $$Q4$$"
   ]
  },
  {
   "cell_type": "markdown",
   "metadata": {},
   "source": [
    "### Imports and File input"
   ]
  },
  {
   "cell_type": "code",
   "execution_count": 1,
   "metadata": {},
   "outputs": [],
   "source": [
    "import random\n",
    "import matplotlib.pyplot as plt\n",
    "import numpy as np\n",
    "import scipy as sp\n",
    "from astropy.table import Table\n",
    "from scipy.integrate import dblquad as doubleInt\n",
    "from scipy.integrate import nquad\n",
    "from scipy.integrate import tplquad as tripleInt"
   ]
  },
  {
   "cell_type": "code",
   "execution_count": 2,
   "metadata": {},
   "outputs": [],
   "source": [
    "fileName = 'Q4.txt'\n",
    "data = np.genfromtxt(fileName)"
   ]
  },
  {
   "cell_type": "markdown",
   "metadata": {},
   "source": [
    "---"
   ]
  },
  {
   "cell_type": "markdown",
   "metadata": {},
   "source": [
    "# $$Q4a$$ "
   ]
  },
  {
   "cell_type": "markdown",
   "metadata": {},
   "source": [
    "# These quantites apply for all the parts in the question\n",
    "\n",
    "#### $$p(y | x, a, b) = \\frac{1}{\\sqrt{2\\pi}\\sigma_{y}} exp\\left({-\\frac{(y - (a+bx))^2}{2\\sigma_{y}^2}}\\right) $$\n",
    "\n",
    "\n",
    "#### $$p(x|y, M_{1}) \\propto  p(y|x)p(x) = \\int_{a}\\int_{b} p(y|x, a, b) p(a) p(b) \\text{ db} \\text{da}$$\n",
    "\n",
    "\n",
    "#### $$p(a) = p(b) = \\frac{1}{4}$$"
   ]
  },
  {
   "cell_type": "code",
   "execution_count": 3,
   "metadata": {},
   "outputs": [],
   "source": [
    "def p_y(a, b): #this is just the function p(y|x, a, b)\n",
    "    x = data[:,0]\n",
    "    y = data[:,1]\n",
    "    dy = data[:,2]\n",
    "    p_y = (1/(np.sqrt(2*np.pi)*dy)) * np.exp(-((y - (a+(b*x)))**2)/(2 * dy**2))\n",
    "    return np.prod(p_y) #the likelihood is the product of all the gaussians so I just multiplied all the elements in my list\n",
    "\n",
    "pa = 1/4\n",
    "pb = 1/4"
   ]
  },
  {
   "cell_type": "code",
   "execution_count": 4,
   "metadata": {},
   "outputs": [],
   "source": [
    "a = np.linspace(-2, 2, 20)\n",
    "b = np.linspace(-2, 2, 20)"
   ]
  },
  {
   "cell_type": "code",
   "execution_count": 5,
   "metadata": {},
   "outputs": [],
   "source": [
    "def g(x):\n",
    "    return -2\n",
    "def h(x):\n",
    "    return 2\n",
    "\n",
    "\n",
    "ans_a = doubleInt(p_y, -2, 2, g, h)[0] * (pa * pb)"
   ]
  },
  {
   "cell_type": "code",
   "execution_count": 6,
   "metadata": {},
   "outputs": [
    {
     "data": {
      "text/plain": [
       "22833.18110426455"
      ]
     },
     "execution_count": 6,
     "metadata": {},
     "output_type": "execute_result"
    }
   ],
   "source": [
    "ans_a "
   ]
  },
  {
   "cell_type": "markdown",
   "metadata": {},
   "source": [
    "### 4.a) $p(D|M_{1}) = 22833.18110426455$"
   ]
  },
  {
   "cell_type": "markdown",
   "metadata": {},
   "source": [
    "---"
   ]
  },
  {
   "cell_type": "markdown",
   "metadata": {},
   "source": [
    "# $$Q4b$$ "
   ]
  },
  {
   "cell_type": "markdown",
   "metadata": {},
   "source": [
    "# These quantites apply for all the parts in the question\n",
    "\n",
    "#### $$p(y | x, a, b, c) = \\frac{1}{\\sqrt{2\\pi}\\sigma_{y}} exp\\left({-\\frac{(y - (a+bx+cx^2))^2}{2\\sigma_{y}^2}}\\right) $$\n",
    "\n",
    "\n",
    "#### $$p(x|y, M_{1}) \\propto  p(y|x)p(x) = \\int_{a}\\int_{b} \\int_{c} p(y|x, a, b, c) p(a) p(b) p(c) \\text{ db} \\text{da} \\text{dc}$$\n",
    "\n",
    "\n",
    "#### $$p(a) = p(b) = p(c) = \\frac{1}{4}$$"
   ]
  },
  {
   "cell_type": "code",
   "execution_count": 7,
   "metadata": {},
   "outputs": [],
   "source": [
    "def p_y(a, b, c): #this is just the function p(y|x, a, b)\n",
    "    x = data[:,0]\n",
    "    y = data[:,1]\n",
    "    dy = data[:,2]\n",
    "    p_y = (1/(np.sqrt(2*np.pi)*dy)) * np.exp(-((y - (a+(b*x)+(c*x**2)))**2)/(2 * dy**2))\n",
    "    return np.prod(p_y)\n",
    "\n",
    "pa = 1/4\n",
    "pb = 1/4\n",
    "pc = 1/4"
   ]
  },
  {
   "cell_type": "code",
   "execution_count": 8,
   "metadata": {},
   "outputs": [],
   "source": [
    "a = np.linspace(-2, 2, 20)\n",
    "b = np.linspace(-2, 2, 20)\n",
    "c = np.linspace(-2, 2, 20)"
   ]
  },
  {
   "cell_type": "code",
   "execution_count": 10,
   "metadata": {},
   "outputs": [],
   "source": [
    "ans = nquad(p_y, [[-2,2], [-2, 2], [-2, 2]])"
   ]
  },
  {
   "cell_type": "code",
   "execution_count": 11,
   "metadata": {},
   "outputs": [],
   "source": [
    "ans_b = ans[0] * pa * pb * pc"
   ]
  },
  {
   "cell_type": "code",
   "execution_count": 12,
   "metadata": {},
   "outputs": [
    {
     "data": {
      "text/plain": [
       "7454.563846939349"
      ]
     },
     "execution_count": 12,
     "metadata": {},
     "output_type": "execute_result"
    }
   ],
   "source": [
    "ans_b"
   ]
  },
  {
   "cell_type": "markdown",
   "metadata": {},
   "source": [
    "### 4.b) $p(D|M_{2}) = 7454.563846939349$"
   ]
  },
  {
   "cell_type": "markdown",
   "metadata": {},
   "source": [
    "---"
   ]
  },
  {
   "cell_type": "markdown",
   "metadata": {},
   "source": [
    "# $$Q4c$$ "
   ]
  },
  {
   "cell_type": "code",
   "execution_count": 13,
   "metadata": {},
   "outputs": [
    {
     "data": {
      "text/plain": [
       "3.0629801519024165"
      ]
     },
     "execution_count": 13,
     "metadata": {},
     "output_type": "execute_result"
    }
   ],
   "source": [
    "B12 = ans_a/ans_b\n",
    "B12"
   ]
  },
  {
   "cell_type": "markdown",
   "metadata": {},
   "source": [
    "#### $$\\text{Bayes' factor, }B_{ij} \\text{ is 3.06:1 which is greater than 3:1.}\\\\ \\text{ Therefore, we can conclude that we prefer }\\\\ M_{1} \\text{ over } M_{2} $$"
   ]
  },
  {
   "cell_type": "markdown",
   "metadata": {},
   "source": [
    "---"
   ]
  }
 ],
 "metadata": {
  "kernelspec": {
   "display_name": "Python 3",
   "language": "python",
   "name": "python3"
  },
  "language_info": {
   "codemirror_mode": {
    "name": "ipython",
    "version": 3
   },
   "file_extension": ".py",
   "mimetype": "text/x-python",
   "name": "python",
   "nbconvert_exporter": "python",
   "pygments_lexer": "ipython3",
   "version": "3.8.3"
  }
 },
 "nbformat": 4,
 "nbformat_minor": 4
}
