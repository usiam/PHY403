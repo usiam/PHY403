{
 "cells": [
  {
   "cell_type": "markdown",
   "metadata": {},
   "source": [
    "# $$\\text{HW} 05$$"
   ]
  },
  {
   "cell_type": "code",
   "execution_count": 1,
   "metadata": {},
   "outputs": [],
   "source": [
    "import numpy as np\n",
    "import scipy as sp\n",
    "from scipy.optimize import minimize\n",
    "import matplotlib.pyplot as plt\n",
    "import scipy.stats as st\n",
    "from scipy.stats import chi2 as chi2\n",
    "from matplotlib.pyplot import *\n",
    "plt.rcParams[\"figure.figsize\"] = (12,8)\n",
    "\n",
    "font = {'size': 20}\n",
    "\n",
    "matplotlib.rc('font', **font)"
   ]
  },
  {
   "cell_type": "code",
   "execution_count": 2,
   "metadata": {},
   "outputs": [],
   "source": [
    "'''\n",
    "z_data = redshift data\n",
    "m = apparent magnitude\n",
    "dm = error in apparent magnitude\n",
    "c = speed of light in km/s\n",
    "'''\n",
    "\n",
    "fileName = 'HW05.txt'\n",
    "data = np.genfromtxt(fileName)\n",
    "z_data = data[:,0]\n",
    "m = data[:,1]\n",
    "dm = data[:,2]\n",
    "c = 3E5"
   ]
  },
  {
   "cell_type": "markdown",
   "metadata": {},
   "source": [
    "---"
   ]
  },
  {
   "cell_type": "markdown",
   "metadata": {},
   "source": [
    "## $$Q1.a)$$"
   ]
  },
  {
   "cell_type": "code",
   "execution_count": 3,
   "metadata": {},
   "outputs": [],
   "source": [
    "'''\n",
    "z = a single redshift value\n",
    "H0 = Hubble constant\n",
    "omega_M = energy density of matter\n",
    "omega_L = energy density of dark energy\n",
    "\n",
    "The function calculates the distance modulus for one redshift value in z_data list which is used to \n",
    "find the apparent magnitude\n",
    "'''\n",
    "\n",
    "def d_L(z, H0, omega_M, omega_L):\n",
    "    z_list = np.linspace(0, z, 53)\n",
    "    term_1 = (1+z) * (c/H0)\n",
    "    integrand = 1/(np.sqrt(omega_M * (1+z_list)**3 + omega_L))\n",
    " \n",
    "    term_ret = term_1 * np.trapz(integrand, z_list) * (10**6)\n",
    "    return term_ret "
   ]
  },
  {
   "cell_type": "code",
   "execution_count": 4,
   "metadata": {},
   "outputs": [],
   "source": [
    "'''\n",
    "M - Absolute magnitude\n",
    "\n",
    "The function loops through the z_data and calculates apparent magnitude for each and creates and returns a \n",
    "list of apparent magnitude.\n",
    "'''\n",
    "\n",
    "def app_mag(H0, omega_M, omega_L, M):\n",
    "    app_mag_list = []\n",
    "    z_data = data[:,0]\n",
    "\n",
    "    for z in z_data:\n",
    "        dL = d_L(z, H0, omega_M, omega_L) \n",
    "        m_calculated = M + 5*(np.log10(dL) - 1)\n",
    "        app_mag_list.append(m_calculated)\n",
    "    return app_mag_list"
   ]
  },
  {
   "cell_type": "code",
   "execution_count": 5,
   "metadata": {},
   "outputs": [],
   "source": [
    "#calculates chisq \n",
    "\n",
    "def chisq(parameter):\n",
    "    omega_M, omega_L, H0, M = parameter\n",
    "    m = data[:,1]\n",
    "    D_i = m\n",
    "    F_i = app_mag(H0, omega_M, omega_L, M)\n",
    "    return np.sum(((F_i) - (D_i))**2 / dm**2)"
   ]
  },
  {
   "cell_type": "code",
   "execution_count": 6,
   "metadata": {},
   "outputs": [
    {
     "name": "stderr",
     "output_type": "stream",
     "text": [
      "<ipython-input-3-a46ce9127116>:14: RuntimeWarning: invalid value encountered in sqrt\n",
      "  integrand = 1/(np.sqrt(omega_M * (1+z_list)**3 + omega_L))\n"
     ]
    }
   ],
   "source": [
    "#minimizes\n",
    "\n",
    "init_guess = [1,0,70, -19]\n",
    "bestfit_a = minimize(chisq, init_guess, method = 'SLSQP', bounds = [[-3,3],[-1,4], [50,100], [-20, -18]])"
   ]
  },
  {
   "cell_type": "code",
   "execution_count": 7,
   "metadata": {
    "scrolled": true
   },
   "outputs": [
    {
     "data": {
      "text/plain": [
       "     fun: 120.73782700470308\n",
       "     jac: array([-8.20159912e-04, -9.38415527e-04, -1.04904175e-05,  1.05857849e-03])\n",
       " message: 'Optimization terminated successfully'\n",
       "    nfev: 56\n",
       "     nit: 10\n",
       "    njev: 10\n",
       "  status: 0\n",
       " success: True\n",
       "       x: array([  0.32052522,   0.90586471,  72.59101873, -18.87416579])"
      ]
     },
     "execution_count": 7,
     "metadata": {},
     "output_type": "execute_result"
    }
   ],
   "source": [
    "bestfit_a"
   ]
  },
  {
   "cell_type": "code",
   "execution_count": 8,
   "metadata": {},
   "outputs": [],
   "source": [
    "calc_m = app_mag(bestfit_a.x[2], bestfit_a.x[0], bestfit_a.x[1], bestfit_a.x[3])"
   ]
  },
  {
   "cell_type": "code",
   "execution_count": 9,
   "metadata": {
    "scrolled": false
   },
   "outputs": [
    {
     "data": {
      "image/png": "[encoded data removed]",
      "text/plain": [
       "<Figure size 864x576 with 1 Axes>"
      ]
     },
     "metadata": {
      "needs_background": "light"
     },
     "output_type": "display_data"
    }
   ],
   "source": [
    "plt.plot(z_data, calc_m, color = 'black')\n",
    "plt.errorbar(z_data, m, yerr = dm, xerr = 0, fmt = '.')\n",
    "plt.xlabel('redshift z')\n",
    "plt.ylabel('m')\n",
    "plt.show()"
   ]
  },
  {
   "cell_type": "markdown",
   "metadata": {},
   "source": [
    "## Best-fit values:\n",
    "$$\\chi^{2} =  120.7$$\\\n",
    "$$\\Omega_{M} = 0.3205$$\\\n",
    "$$\\Omega_{\\Lambda} = 0.9059$$\\\n",
    "$$H_{0} = 72.59 \\text{ }kms^{-1} Mpc^{-1}$$\\\n",
    "$$M = -18.87 $$"
   ]
  },
  {
   "cell_type": "markdown",
   "metadata": {},
   "source": [
    "---"
   ]
  },
  {
   "cell_type": "markdown",
   "metadata": {},
   "source": [
    "## $$Q1.b)$$"
   ]
  },
  {
   "cell_type": "code",
   "execution_count": 10,
   "metadata": {},
   "outputs": [],
   "source": [
    "def d_L_b(z, H0, omega_M):\n",
    "    omega_L = 1 - omega_M\n",
    "    z_list = np.linspace(0, z, 53)\n",
    "    term_1 = (1+z) * (c/H0)\n",
    "    integrand = 1/(np.sqrt(omega_M * (1+z_list)**3 + omega_L))\n",
    " \n",
    "    term_ret = term_1 * np.trapz(integrand, z_list) * (10**6)\n",
    "    return term_ret "
   ]
  },
  {
   "cell_type": "code",
   "execution_count": 11,
   "metadata": {},
   "outputs": [],
   "source": [
    "def app_mag_b(H0, omega_M, M):\n",
    "    omega_L = 1 - omega_M\n",
    "    app_mag_list = []\n",
    "    z_data = data[:,0]\n",
    "\n",
    "    for z in z_data:\n",
    "        dL = d_L_b(z, H0, omega_M)\n",
    "        x = M + 5*(np.log10(dL) - 1)\n",
    "        app_mag_list.append(x)\n",
    "    return app_mag_list"
   ]
  },
  {
   "cell_type": "code",
   "execution_count": 12,
   "metadata": {},
   "outputs": [],
   "source": [
    "def chisq(parameter):\n",
    "    omega_M, H0, M = parameter\n",
    "    omega_L = 1 - omega_M\n",
    "    m = data[:,1]\n",
    "    D_i = m\n",
    "    F_i = app_mag_b(H0, omega_M, M)\n",
    "    return np.sum(((F_i) - (D_i))**2 / dm**2)"
   ]
  },
  {
   "cell_type": "code",
   "execution_count": 13,
   "metadata": {},
   "outputs": [
    {
     "name": "stderr",
     "output_type": "stream",
     "text": [
      "<ipython-input-10-8a95ec786b97>:5: RuntimeWarning: invalid value encountered in sqrt\n",
      "  integrand = 1/(np.sqrt(omega_M * (1+z_list)**3 + omega_L))\n"
     ]
    }
   ],
   "source": [
    "init_guess = [1,70, -19]\n",
    "bestfit_b = minimize(chisq, init_guess, method = 'SLSQP', bounds = [[-3,3], [50,100], [-20, -18]])"
   ]
  },
  {
   "cell_type": "code",
   "execution_count": 14,
   "metadata": {},
   "outputs": [
    {
     "data": {
      "text/plain": [
       "     fun: 120.73782722069738\n",
       "     jac: array([-0.01579094, -0.00021267,  0.00728321])\n",
       " message: 'Optimization terminated successfully'\n",
       "    nfev: 36\n",
       "     nit: 8\n",
       "    njev: 8\n",
       "  status: 0\n",
       " success: True\n",
       "       x: array([  0.26132261,  76.95056347, -18.96910478])"
      ]
     },
     "execution_count": 14,
     "metadata": {},
     "output_type": "execute_result"
    }
   ],
   "source": [
    "bestfit_b"
   ]
  },
  {
   "cell_type": "code",
   "execution_count": 15,
   "metadata": {},
   "outputs": [
    {
     "data": {
      "text/plain": [
       "2.1599430510832462e-07"
      ]
     },
     "execution_count": 15,
     "metadata": {},
     "output_type": "execute_result"
    }
   ],
   "source": [
    "bestfit_b.fun - bestfit_a.fun"
   ]
  },
  {
   "cell_type": "markdown",
   "metadata": {},
   "source": [
    "### For part(b) with one less parameter we get $\\chi^{2} = 120.73$ making our $\\Delta\\chi^{2} = 2.16 \\cdot 10^{-7}$. Therefore, not a significant difference in the value compared to (a). From this small difference we can justify that our fitting is not affected significantly by fixing our variable $\\Omega_{\\Lambda}$."
   ]
  },
  {
   "cell_type": "markdown",
   "metadata": {},
   "source": [
    "---"
   ]
  },
  {
   "cell_type": "markdown",
   "metadata": {},
   "source": [
    "## $$Q1.c)$$"
   ]
  },
  {
   "cell_type": "code",
   "execution_count": 16,
   "metadata": {},
   "outputs": [],
   "source": [
    "def d_L_c(z, H0):\n",
    "    omega_M = 1\n",
    "    omega_L = 1 - omega_M\n",
    "    z_list = np.linspace(0, z, 53)\n",
    "    term_1 = (1+z) * (c/H0)\n",
    "    integrand = 1/(np.sqrt(omega_M * (1+z_list)**3 + omega_L))\n",
    " \n",
    "    term_ret = term_1 * np.trapz(integrand, z_list) * (10**6)\n",
    "    return term_ret "
   ]
  },
  {
   "cell_type": "code",
   "execution_count": 17,
   "metadata": {},
   "outputs": [],
   "source": [
    "def app_mag_c(H0, M):\n",
    "    omega_M = 1\n",
    "    omega_L = 1 - omega_M\n",
    "    app_mag_list = []\n",
    "    z_data = data[:,0]\n",
    "\n",
    "    for z in z_data:\n",
    "        dL = d_L_c(z, H0)\n",
    "        x = M + 5*(np.log10(dL) - 1)\n",
    "        app_mag_list.append(x)\n",
    "    return app_mag_list"
   ]
  },
  {
   "cell_type": "code",
   "execution_count": 18,
   "metadata": {},
   "outputs": [],
   "source": [
    "def chisq(parameter):\n",
    "    omega_M = 1\n",
    "    H0, M = parameter\n",
    "    omega_L = 1 - omega_M\n",
    "    m = data[:,1]\n",
    "    D_i = m\n",
    "    F_i = app_mag_c(H0, M)\n",
    "    return np.sum(((F_i) - (D_i))**2 / dm**2)"
   ]
  },
  {
   "cell_type": "code",
   "execution_count": 19,
   "metadata": {},
   "outputs": [],
   "source": [
    "init_guess = [70, -19]\n",
    "bestfit_c = minimize(chisq, init_guess, method = 'SLSQP', bounds = [[50,100], [-20, -18]])"
   ]
  },
  {
   "cell_type": "code",
   "execution_count": 20,
   "metadata": {},
   "outputs": [
    {
     "data": {
      "text/plain": [
       "     fun: 172.35270613653384\n",
       "     jac: array([ 0.00140953, -0.0448246 ])\n",
       " message: 'Optimization terminated successfully'\n",
       "    nfev: 8\n",
       "     nit: 2\n",
       "    njev: 2\n",
       "  status: 0\n",
       " success: True\n",
       "       x: array([ 69.71679683, -18.94819118])"
      ]
     },
     "execution_count": 20,
     "metadata": {},
     "output_type": "execute_result"
    }
   ],
   "source": [
    "bestfit_c"
   ]
  },
  {
   "cell_type": "code",
   "execution_count": 21,
   "metadata": {},
   "outputs": [],
   "source": [
    "calc_m_c = app_mag_c(bestfit_c.x[0], bestfit_c.x[1])"
   ]
  },
  {
   "cell_type": "code",
   "execution_count": 22,
   "metadata": {
    "scrolled": false
   },
   "outputs": [
    {
     "data": {
      "image/png": "[encoded data removed]",
      "text/plain": [
       "<Figure size 864x576 with 1 Axes>"
      ]
     },
     "metadata": {
      "needs_background": "light"
     },
     "output_type": "display_data"
    },
    {
     "data": {
      "text/plain": [
       "<Figure size 2880x720 with 0 Axes>"
      ]
     },
     "metadata": {},
     "output_type": "display_data"
    }
   ],
   "source": [
    "plt.plot(z_data, calc_m_c, color = 'black')\n",
    "plt.errorbar(z_data, m, yerr = dm, xerr = 0, fmt = '.', ecolor = 'blue')\n",
    "plt.xlabel('redshift z')\n",
    "plt.ylabel('m')\n",
    "plt.figure(figsize=(40,10))\n",
    "plt.show()"
   ]
  },
  {
   "cell_type": "markdown",
   "metadata": {},
   "source": [
    "## Best-fit values:\n",
    "$$H_{0} = 69.72 \\text{ }kms^{-1} Mpc^{-1}$$\\\n",
    "$$M = -18.95 $$"
   ]
  },
  {
   "cell_type": "markdown",
   "metadata": {},
   "source": [
    "---"
   ]
  },
  {
   "cell_type": "markdown",
   "metadata": {},
   "source": [
    "## $$Q1.d)$$"
   ]
  },
  {
   "cell_type": "code",
   "execution_count": 23,
   "metadata": {},
   "outputs": [],
   "source": [
    "chisq_nested = bestfit_c.fun\n",
    "chisq_unnested = bestfit_b.fun\n",
    "\n",
    "delChisq = chisq_nested - chisq_unnested"
   ]
  },
  {
   "cell_type": "code",
   "execution_count": 24,
   "metadata": {},
   "outputs": [
    {
     "data": {
      "text/plain": [
       "6.752376435770202e-13"
      ]
     },
     "execution_count": 24,
     "metadata": {},
     "output_type": "execute_result"
    }
   ],
   "source": [
    "pValue = 1 - chi2.cdf(delChisq, 1)\n",
    "pValue"
   ]
  },
  {
   "cell_type": "code",
   "execution_count": 25,
   "metadata": {},
   "outputs": [
    {
     "data": {
      "text/plain": [
       "7.089037913442505"
      ]
     },
     "execution_count": 25,
     "metadata": {},
     "output_type": "execute_result"
    }
   ],
   "source": [
    "st.norm.isf(pValue)"
   ]
  },
  {
   "cell_type": "markdown",
   "metadata": {},
   "source": [
    "### Our difference in $\\chi^{2}$, $\\Delta\\chi^{2} = 51.61$. Using the difference and Wilks' theorem we calculated our z-score to be ~7. This suggests that the addition of the term, $\\Omega_{\\Lambda}$ is crucial for our fit since $7 \\sigma$ > $5 \\sigma$."
   ]
  }
 ],
 "metadata": {
  "kernelspec": {
   "display_name": "Python 3",
   "language": "python",
   "name": "python3"
  },
  "language_info": {
   "codemirror_mode": {
    "name": "ipython",
    "version": 3
   },
   "file_extension": ".py",
   "mimetype": "text/x-python",
   "name": "python",
   "nbconvert_exporter": "python",
   "pygments_lexer": "ipython3",
   "version": "3.8.3"
  }
 },
 "nbformat": 4,
 "nbformat_minor": 4
}
