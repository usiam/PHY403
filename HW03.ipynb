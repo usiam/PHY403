{
 "cells": [
  {
   "cell_type": "markdown",
   "metadata": {},
   "source": [
    "# $$\\text{Q.1 HW03}$$ "
   ]
  },
  {
   "cell_type": "markdown",
   "metadata": {},
   "source": [
    "# These quantites apply for all the parts in the question\n",
    "\n",
    "#### $$p(v_{m} | d, H_{0}) = \\frac{1}{\\sqrt{2\\pi}\\sigma_{v_m}} exp\\left({-\\frac{(v_{m} - H_{0}d)^2}{2\\sigma_{v_m}^2}}\\right) $$\n",
    "\n",
    "\n",
    "#### $$p(d|v_{m}) \\propto  p(v_{m}|d)p(d) = \\int_{H_{0}} p(v_{m}|H_{0},d) p(H_{0}) p(d) \\text{ }dH_{0}$$\n",
    "\n",
    "\n",
    "#### $$p(d) = \\frac{1}{\\Delta d} = \\frac{1}{800}$$"
   ]
  },
  {
   "cell_type": "markdown",
   "metadata": {},
   "source": [
    "---"
   ]
  },
  {
   "cell_type": "code",
   "execution_count": 1,
   "metadata": {},
   "outputs": [],
   "source": [
    "import random\n",
    "import matplotlib.pyplot as plt\n",
    "import numpy as np\n",
    "import scipy as sp\n",
    "import statistics as stat\n",
    "from matplotlib.colors import LogNorm\n",
    "from matplotlib.pyplot import *\n",
    "\n",
    "font = {'size': 14}\n",
    "\n",
    "matplotlib.rc('font', **font)"
   ]
  },
  {
   "cell_type": "code",
   "execution_count": 2,
   "metadata": {},
   "outputs": [],
   "source": [
    "def pvm(sig, vm, H, d): #this is just the function p(vm | d, H0)\n",
    "    p_vm = (1/(np.sqrt(2*np.pi)*sig)) * np.exp(-((vm - H*d)**2)/(2 * sig**2))\n",
    "    return p_vm\n",
    "\n",
    "sig = 1 * 10**3;\n",
    "vm = 30 * 10**3;\n",
    "pd = 1/800;"
   ]
  },
  {
   "cell_type": "markdown",
   "metadata": {},
   "source": [
    "---"
   ]
  },
  {
   "cell_type": "markdown",
   "metadata": {},
   "source": [
    "## a, b) $$p(H_{0}) = \\delta_{H_{0} - 75}$$"
   ]
  },
  {
   "cell_type": "markdown",
   "metadata": {},
   "source": [
    "---"
   ]
  },
  {
   "cell_type": "markdown",
   "metadata": {},
   "source": [
    "### part (a) Plotting the pdf $p(d|v_{m})$"
   ]
  },
  {
   "cell_type": "code",
   "execution_count": 3,
   "metadata": {
    "scrolled": true
   },
   "outputs": [],
   "source": [
    "H = 75;\n",
    "d_list = np.linspace(0, 800, 1001) #generates a list of d for the plot\n",
    "pvm_list = pvm(sig, vm, H, d_list) #generates a list of p(vm | d, H0) for the list of d"
   ]
  },
  {
   "cell_type": "code",
   "execution_count": 4,
   "metadata": {},
   "outputs": [],
   "source": [
    "# p refers to p(d|vm)\n",
    "areaUnderPd = np.trapz(pvm_list, d_list) \n",
    "\n",
    "#the above is true because the integral of a delta function respect to the function over all possitble values is just 1\n",
    "\n",
    "p_list_norm = pvm_list/areaUnderPd \n",
    "#we are normalizing our list of p(d|vm) by dividing the list of p(vm | d, H0) by the area p"
   ]
  },
  {
   "cell_type": "code",
   "execution_count": 5,
   "metadata": {},
   "outputs": [
    {
     "data": {
      "image/png": "[encoded data removed]",
      "text/plain": [
       "<Figure size 432x288 with 1 Axes>"
      ]
     },
     "metadata": {
      "needs_background": "light"
     },
     "output_type": "display_data"
    }
   ],
   "source": [
    "# now we have a list of p(d|vm) and a list of d so we can plot it\n",
    "plt.plot(d_list, p_list_norm)\n",
    "plt.xlabel(\"d\")\n",
    "plt.ylabel(r\"$p(d|v_{m})$\")\n",
    "plt.grid()\n",
    "plt.show()"
   ]
  },
  {
   "cell_type": "markdown",
   "metadata": {},
   "source": [
    "### part (b) Finding $\\hat{d}$ and the 68% confidence interval"
   ]
  },
  {
   "cell_type": "code",
   "execution_count": 6,
   "metadata": {},
   "outputs": [
    {
     "name": "stdout",
     "output_type": "stream",
     "text": [
      "d-hat: 400.0\n"
     ]
    }
   ],
   "source": [
    "#just finds the index where p(d|vm) is max and then prints the corresponding d value as d_hat\n",
    "indexOfMaxProb = np.where(p_list_norm == max(p_list_norm))\n",
    "d_hat = d_list[indexOfMaxProb]\n",
    "print(\"d-hat: \" + str(float(d_hat)))"
   ]
  },
  {
   "cell_type": "code",
   "execution_count": 7,
   "metadata": {},
   "outputs": [
    {
     "name": "stdout",
     "output_type": "stream",
     "text": [
      "left limit of d-hat: 388.8\n"
     ]
    }
   ],
   "source": [
    "#starts at the left of the distribution in the figure above. Calculates area till we hit 16% of\n",
    "#the area while keeping track of the index and prints the corresponding d of that index\n",
    "\n",
    "i = 1\n",
    "area = 0\n",
    "while(area < (0.5 - 0.34)):\n",
    "    x_list, y_list = d_list[:i], p_list_norm[:i]\n",
    "    area = np.trapz(y_list, x_list)\n",
    "    i += 1\n",
    "\n",
    "print(\"left limit of d-hat: \" + str(d_list[i]))"
   ]
  },
  {
   "cell_type": "code",
   "execution_count": 8,
   "metadata": {},
   "outputs": [
    {
     "name": "stdout",
     "output_type": "stream",
     "text": [
      "right limit of d-hat: 415.20000000000005\n"
     ]
    }
   ],
   "source": [
    "#starts at the left of the distribution in the figure above. Calculates area till we hit 84% of\n",
    "#the area while keeping track of the index and prints the corresponding d of that index\n",
    "\n",
    "i = 1\n",
    "area = 0\n",
    "while(area < (0.5 + 0.34)):\n",
    "    x_list, y_list = d_list[:i], p_list_norm[:i]\n",
    "    area = np.trapz(y_list, x_list)\n",
    "    i += 1\n",
    "\n",
    "print(\"right limit of d-hat: \" + str(d_list[i]))"
   ]
  },
  {
   "cell_type": "markdown",
   "metadata": {},
   "source": [
    " ### $$\\therefore \\hat{d} = 400$$\n",
    " ### $$ 388.8 < \\hat{d} < 415.2 $$"
   ]
  },
  {
   "cell_type": "markdown",
   "metadata": {},
   "source": [
    "---"
   ]
  },
  {
   "cell_type": "markdown",
   "metadata": {},
   "source": [
    "# c,d) $$p(H_{0}) = \\frac{1}{\\Delta H_{0}} = \\frac{1}{40}$$"
   ]
  },
  {
   "cell_type": "markdown",
   "metadata": {},
   "source": [
    "---"
   ]
  },
  {
   "cell_type": "markdown",
   "metadata": {},
   "source": [
    "### part (c) Plotting the pdf $p(d|v_{m})$"
   ]
  },
  {
   "cell_type": "code",
   "execution_count": 9,
   "metadata": {},
   "outputs": [],
   "source": [
    "H = np.linspace(50, 90, 1001)\n",
    "pH = 1/40\n",
    "\n",
    "#pd_list is the list of p(d|vm) for all d in d_list\n",
    "pd_list = []\n",
    "for d in d_list:\n",
    "    pd_list.append(np.trapz(pvm(sig, vm, H, d) * pH * pd, H))"
   ]
  },
  {
   "cell_type": "code",
   "execution_count": 10,
   "metadata": {},
   "outputs": [],
   "source": [
    "#once more we are normalizing p(d|vm) by dividing it by the area of p(d|vm)\n",
    "areaUnderPd = np.trapz(pd_list, d_list)\n",
    "\n",
    "p_list_norm = pd_list/areaUnderPd"
   ]
  },
  {
   "cell_type": "code",
   "execution_count": 11,
   "metadata": {},
   "outputs": [
    {
     "data": {
      "image/png": "[encoded data removed]",
      "text/plain": [
       "<Figure size 432x288 with 1 Axes>"
      ]
     },
     "metadata": {
      "needs_background": "light"
     },
     "output_type": "display_data"
    }
   ],
   "source": [
    "plt.plot(d_list, p_list_norm)\n",
    "plt.xlabel(\"d\")\n",
    "plt.ylabel(r\"$p(d|v_{m})$\")\n",
    "plt.grid()\n",
    "plt.show()"
   ]
  },
  {
   "cell_type": "markdown",
   "metadata": {},
   "source": [
    "### part (d) Finding $\\hat{d}$ and the 68% confidence interval"
   ]
  },
  {
   "cell_type": "code",
   "execution_count": 12,
   "metadata": {},
   "outputs": [
    {
     "name": "stdout",
     "output_type": "stream",
     "text": [
      "d-hat: 358.40000000000003\n"
     ]
    }
   ],
   "source": [
    "indexOfMaxProb = np.where(p_list_norm == max(p_list_norm))\n",
    "d_hat = d_list[indexOfMaxProb]\n",
    "print(\"d-hat: \" + str(float(d_hat)))"
   ]
  },
  {
   "cell_type": "code",
   "execution_count": 13,
   "metadata": {},
   "outputs": [
    {
     "name": "stdout",
     "output_type": "stream",
     "text": [
      "left limit of d-hat: 368.0\n"
     ]
    }
   ],
   "source": [
    "i = 1\n",
    "area = 0\n",
    "while(area < (0.5 - 0.34)):\n",
    "    x_list, y_list = d_list[:i], p_list_norm[:i]\n",
    "    area = np.trapz(y_list, x_list)\n",
    "    i += 1\n",
    "\n",
    "\n",
    "print(\"left limit of d-hat: \" + str(d_list[i]))"
   ]
  },
  {
   "cell_type": "code",
   "execution_count": 14,
   "metadata": {},
   "outputs": [
    {
     "name": "stdout",
     "output_type": "stream",
     "text": [
      "right limit of d-hat: 548.0\n"
     ]
    }
   ],
   "source": [
    "i = 1\n",
    "area = 0\n",
    "while(area < (0.5 + 0.34)):\n",
    "    x_list, y_list = d_list[:i], p_list_norm[:i]\n",
    "    area = np.trapz(y_list, x_list)\n",
    "    i += 1\n",
    "\n",
    "print(\"right limit of d-hat: \" + str(d_list[i]))"
   ]
  },
  {
   "cell_type": "markdown",
   "metadata": {},
   "source": [
    " ### $$\\therefore \\hat{d} = 358.4$$\n",
    "\n",
    " ### $$368.0 < \\hat{d} < 548.0$$"
   ]
  },
  {
   "cell_type": "markdown",
   "metadata": {},
   "source": [
    "---"
   ]
  },
  {
   "cell_type": "markdown",
   "metadata": {},
   "source": [
    "# e,f) $$p(H_{0}) = \\frac{1}{H_{0}} \\frac{1}{ln(H_{0_{max}}/H_{0_{min}})}$$"
   ]
  },
  {
   "cell_type": "markdown",
   "metadata": {},
   "source": [
    "---"
   ]
  },
  {
   "cell_type": "markdown",
   "metadata": {},
   "source": [
    "### part (e) Plotting the pdf $p(d|v_{m})$"
   ]
  },
  {
   "cell_type": "code",
   "execution_count": 15,
   "metadata": {},
   "outputs": [],
   "source": [
    "H = np.linspace(50, 90, 1001)\n",
    "\n",
    "#distributes H into a Jeffries \n",
    "pH = (1/H)*(1/np.log(90/50)) \n",
    "\n",
    "pd_list = []\n",
    "for d in d_list:\n",
    "    pd_list.append(np.trapz(pvm(sig, vm, H, d) * pH * pd, H))"
   ]
  },
  {
   "cell_type": "code",
   "execution_count": 16,
   "metadata": {},
   "outputs": [
    {
     "data": {
      "image/png": "[encoded data removed]",
      "text/plain": [
       "<Figure size 432x288 with 1 Axes>"
      ]
     },
     "metadata": {
      "needs_background": "light"
     },
     "output_type": "display_data"
    }
   ],
   "source": [
    "areaUnderPd = np.trapz(pd_list, d_list)\n",
    "\n",
    "pd_list_norm = pd_list/areaUnderPd\n",
    "\n",
    "plt.plot(d_list, pd_list_norm)\n",
    "plt.xlabel(\"d\")\n",
    "plt.ylabel(r\"$p(d|v_{m})$\")\n",
    "plt.grid()\n",
    "plt.show()"
   ]
  },
  {
   "cell_type": "markdown",
   "metadata": {},
   "source": [
    "### part (f) Finding $\\hat{d}$ and the 68% confidence interval"
   ]
  },
  {
   "cell_type": "code",
   "execution_count": 17,
   "metadata": {
    "scrolled": true
   },
   "outputs": [
    {
     "name": "stdout",
     "output_type": "stream",
     "text": [
      "d-hat: 358.40000000000003\n"
     ]
    }
   ],
   "source": [
    "indexOfMaxProb = np.where(pd_list_norm == max(pd_list_norm))\n",
    "d_hat_list = d_list[indexOfMaxProb] #since it's a flat line we have an array \n",
    "d_hat = np.median(d_hat) #just use the median of that array as d-hat\n",
    "print(\"d-hat: \" + str(float(d_hat)))"
   ]
  },
  {
   "cell_type": "code",
   "execution_count": 18,
   "metadata": {},
   "outputs": [
    {
     "name": "stdout",
     "output_type": "stream",
     "text": [
      "left limit of d-hat: 377.6\n"
     ]
    }
   ],
   "source": [
    "i = 1\n",
    "area = 0\n",
    "while(area < (0.5 - 0.34)):\n",
    "    x_list, y_list = d_list[:i], pd_list_norm[:i]\n",
    "    area = np.trapz(y_list, x_list)\n",
    "    i += 1\n",
    "\n",
    "\n",
    "print(\"left limit of d-hat: \" + str(d_list[i]))"
   ]
  },
  {
   "cell_type": "code",
   "execution_count": 19,
   "metadata": {},
   "outputs": [
    {
     "name": "stdout",
     "output_type": "stream",
     "text": [
      "right limit of d-hat: 559.2\n"
     ]
    }
   ],
   "source": [
    "i = 1\n",
    "area = 0\n",
    "while(area < (0.5 + 0.34)):\n",
    "    x_list, y_list = d_list[:i], pd_list_norm[:i]\n",
    "    area = np.trapz(y_list, x_list)\n",
    "    i += 1\n",
    "\n",
    "\n",
    "print(\"right limit of d-hat: \" + str(d_list[i]))"
   ]
  },
  {
   "cell_type": "markdown",
   "metadata": {},
   "source": [
    " ### $$\\therefore \\hat{d} = 432.0$$\n",
    "\n",
    " ### $$377.6 < \\hat{d} < 559.2$$"
   ]
  },
  {
   "cell_type": "markdown",
   "metadata": {},
   "source": [
    "---"
   ]
  },
  {
   "cell_type": "markdown",
   "metadata": {},
   "source": [
    "# g,h) $$p(H_{0}) = \\frac{1}{\\sqrt{2\\pi}\\sigma_{H_{0}}} exp\\left(\\frac{(H_{0}-H'_{0})^2}{2\\sigma_{H_{0}}^2}\\right) $$\n",
    "where $H'_{0}$ is given two values "
   ]
  },
  {
   "cell_type": "markdown",
   "metadata": {},
   "source": [
    "---"
   ]
  },
  {
   "cell_type": "markdown",
   "metadata": {},
   "source": [
    "### part (g) Plotting the pdf $p(d|v_{m})$"
   ]
  },
  {
   "cell_type": "markdown",
   "metadata": {},
   "source": [
    "### 1, 2)"
   ]
  },
  {
   "cell_type": "code",
   "execution_count": 20,
   "metadata": {},
   "outputs": [],
   "source": [
    "# function that distributes a list of H0 into a gaussian\n",
    "def gaussH(H0, mu, sigma):\n",
    "    gaussH0 = (1/(np.sqrt(2*np.pi)*sigma)) * np.exp(-((H0 - mu)**2)/(2 * sigma**2))\n",
    "    return gaussH0"
   ]
  },
  {
   "cell_type": "code",
   "execution_count": 21,
   "metadata": {},
   "outputs": [],
   "source": [
    "# #generates list of H0 values to be distributed as a gaussian using gaussH function\n",
    "H0 = np.linspace(50,80, 1001)"
   ]
  },
  {
   "cell_type": "code",
   "execution_count": 22,
   "metadata": {},
   "outputs": [],
   "source": [
    "pd01_list = []\n",
    "pd02_list = []\n",
    "\n",
    "for d in d_list:\n",
    "    pd01_list.append(np.trapz(pvm(sig, vm, H0, d) * gaussH(H0, 74.03, 1.42) * pd, H0))\n",
    "    pd02_list.append(np.trapz(pvm(sig, vm, H0, d) * gaussH(H0, 67.66, 0.42) * pd, H0))"
   ]
  },
  {
   "cell_type": "code",
   "execution_count": 23,
   "metadata": {},
   "outputs": [
    {
     "data": {
      "image/png": "[encoded data removed]",
      "text/plain": [
       "<Figure size 432x288 with 1 Axes>"
      ]
     },
     "metadata": {
      "needs_background": "light"
     },
     "output_type": "display_data"
    }
   ],
   "source": [
    "areaUnderPd01 = np.trapz(pd01_list, d_list)\n",
    "areaUnderPd02 = np.trapz(pd02_list, d_list)\n",
    "\n",
    "pd01_list_norm = pd01_list/areaUnderPd01\n",
    "pd02_list_norm = pd02_list/areaUnderPd02\n",
    "\n",
    "plt.plot(d_list, pd01_list_norm, color = \"red\", label = r\"$H_{0}$ = 74.03 $\\pm$ 1.42\")\n",
    "plt.plot(d_list, pd02_list_norm, color = \"black\", label = r\"$H_{0}$ = 67.66 $\\pm$ 0.42\")\n",
    "plt.xlabel(\"d\")\n",
    "plt.ylabel(r\"$p(d|v_{m})$\")\n",
    "plt.grid()\n",
    "plt.legend(loc='best', bbox_to_anchor=(1.08, 0.5, 0.5, 0.5))\n",
    "plt.xlim(200, 600)\n",
    "\n",
    "plt.show()"
   ]
  },
  {
   "cell_type": "markdown",
   "metadata": {},
   "source": [
    "### part (h) Finding $\\hat{d}$ and the 68% confidence interval"
   ]
  },
  {
   "cell_type": "markdown",
   "metadata": {},
   "source": [
    "#### 1)"
   ]
  },
  {
   "cell_type": "code",
   "execution_count": 24,
   "metadata": {},
   "outputs": [
    {
     "name": "stdout",
     "output_type": "stream",
     "text": [
      "d-hat: 404.8\n"
     ]
    }
   ],
   "source": [
    "indexOfMaxProb = np.where(pd01_list_norm == max(pd01_list_norm))\n",
    "d_hat = d_list[indexOfMaxProb] #since it's a flat line we have an array \n",
    "print(\"d-hat: \" + str(float(d_hat)))"
   ]
  },
  {
   "cell_type": "code",
   "execution_count": 25,
   "metadata": {},
   "outputs": [
    {
     "name": "stdout",
     "output_type": "stream",
     "text": [
      "left limit of d-hat: 392.0\n"
     ]
    }
   ],
   "source": [
    "i = 1\n",
    "area = 0\n",
    "while(area < (0.5 - 0.34)):\n",
    "    x_list, y_list = d_list[:i], pd01_list_norm[:i]\n",
    "    area = np.trapz(y_list, x_list)\n",
    "    i += 1\n",
    "\n",
    "\n",
    "print(\"left limit of d-hat: \" + str(d_list[i]))"
   ]
  },
  {
   "cell_type": "code",
   "execution_count": 26,
   "metadata": {},
   "outputs": [
    {
     "name": "stdout",
     "output_type": "stream",
     "text": [
      "right limit of d-hat: 423.20000000000005\n"
     ]
    }
   ],
   "source": [
    "i = 1\n",
    "area = 0\n",
    "while(area < (0.5 + 0.34)):\n",
    "    x_list, y_list = d_list[:i], pd01_list_norm[:i]\n",
    "    area = np.trapz(y_list, x_list)\n",
    "    i += 1\n",
    "\n",
    "\n",
    "print(\"right limit of d-hat: \" + str(d_list[i]))"
   ]
  },
  {
   "cell_type": "markdown",
   "metadata": {},
   "source": [
    "#### 2)"
   ]
  },
  {
   "cell_type": "code",
   "execution_count": 27,
   "metadata": {},
   "outputs": [
    {
     "name": "stdout",
     "output_type": "stream",
     "text": [
      "d-hat: 443.20000000000005\n"
     ]
    }
   ],
   "source": [
    "indexOfMaxProb = np.where(pd02_list_norm == max(pd02_list_norm))\n",
    "d_hat = d_list[indexOfMaxProb] #since it's a flat line we have an array \n",
    "print(\"d-hat: \" + str(float(d_hat)))"
   ]
  },
  {
   "cell_type": "code",
   "execution_count": 28,
   "metadata": {},
   "outputs": [
    {
     "name": "stdout",
     "output_type": "stream",
     "text": [
      "left limit of d-hat: 430.40000000000003\n"
     ]
    }
   ],
   "source": [
    "i = 1\n",
    "area = 0\n",
    "while(area < (0.5 - 0.34)):\n",
    "    x_list, y_list = d_list[:i], pd02_list_norm[:i]\n",
    "    area = np.trapz(y_list, x_list)\n",
    "    i += 1\n",
    "\n",
    "\n",
    "print(\"left limit of d-hat: \" + str(d_list[i]))"
   ]
  },
  {
   "cell_type": "code",
   "execution_count": 29,
   "metadata": {},
   "outputs": [
    {
     "name": "stdout",
     "output_type": "stream",
     "text": [
      "right limit of d-hat: 460.0\n"
     ]
    }
   ],
   "source": [
    "i = 1\n",
    "area = 0\n",
    "while(area < (0.5 + 0.34)):\n",
    "    x_list, y_list = d_list[:i], pd02_list_norm[:i]\n",
    "    area = np.trapz(y_list, x_list)\n",
    "    i += 1\n",
    "\n",
    "\n",
    "print(\"right limit of d-hat: \" + str(d_list[i]))"
   ]
  },
  {
   "cell_type": "markdown",
   "metadata": {},
   "source": [
    " #### 1) $H_{0}$ = 74.03 $\\pm$ 1.42\n",
    " #### $$\\therefore \\hat{d} = 404.8$$\n",
    "\n",
    " #### $$392.0 < \\hat{d} < 423.2$$\n",
    " \n",
    " #### 2) $H_{0}$ = 67.66 $\\pm$ 0.42\n",
    " #### $$\\therefore \\hat{d} = 443.2$$\n",
    "\n",
    " #### $$430.4 < \\hat{d} < 460.0$$\n",
    " \n",
    " #### The $\\hat{d}$ do agree with each other within the credible interval"
   ]
  }
 ],
 "metadata": {
  "kernelspec": {
   "display_name": "Python 3",
   "language": "python",
   "name": "python3"
  },
  "language_info": {
   "codemirror_mode": {
    "name": "ipython",
    "version": 3
   },
   "file_extension": ".py",
   "mimetype": "text/x-python",
   "name": "python",
   "nbconvert_exporter": "python",
   "pygments_lexer": "ipython3",
   "version": "3.8.3"
  }
 },
 "nbformat": 4,
 "nbformat_minor": 4
}
